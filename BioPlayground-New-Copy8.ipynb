{
 "cells": [
  {
   "cell_type": "code",
   "execution_count": 1,
   "metadata": {
    "collapsed": true
   },
   "outputs": [],
   "source": [
    "import pandas as pd"
   ]
  },
  {
   "cell_type": "code",
   "execution_count": 2,
   "metadata": {
    "collapsed": true
   },
   "outputs": [],
   "source": [
    "import csv"
   ]
  },
  {
   "cell_type": "code",
   "execution_count": 3,
   "metadata": {
    "collapsed": true
   },
   "outputs": [],
   "source": [
    "from collections import Counter"
   ]
  },
  {
   "cell_type": "code",
   "execution_count": 4,
   "metadata": {
    "collapsed": true
   },
   "outputs": [],
   "source": [
    "def create_ids():\n",
    "    idsA = open(\"Files for Danielle/Human_GeCKOv2_Library_A_09Mar2015.csv\")\n",
    "    idsB = open(\"Files for Danielle/Human_GeCKOv2_Library_B_09Mar2015.csv\")\n",
    "    reader = csv.reader(idsA)\n",
    "    sequence = {}\n",
    "    for row in reader:\n",
    "        sequence[row[2]]= row[1]\n",
    "    reader = csv.reader(idsB)\n",
    "    for row in reader:\n",
    "        sequence[row[2]]= row[1]\n",
    "    idsA_df = pd.read_csv(\"Files for Danielle/Human_GeCKOv2_Library_A_09Mar2015.csv\")\n",
    "    idsB_df = pd.read_csv(\"Files for Danielle/Human_GeCKOv2_Library_B_09Mar2015.csv\")\n",
    "    frames=[idsA_df,idsB_df]\n",
    "    sequence_df = pd.concat(frames, ignore_index=True)\n",
    "    sequence_df.drop(\"Unnamed: 3\",axis=1,inplace=True)\n",
    "    return sequence, sequence_df"
   ]
  },
  {
   "cell_type": "code",
   "execution_count": 5,
   "metadata": {
    "collapsed": true
   },
   "outputs": [],
   "source": [
    "def find_start_index(data,start,length,tries,id_dict):\n",
    "    good = []\n",
    "    start_index = 0\n",
    "    num_hits = 0\n",
    "    for j in range(tries):\n",
    "        for i in range(0,len(data)):\n",
    "            if data[i][start+j:start+length+j] in id_dict:\n",
    "                good.append(id_dict[data[i][start+j:start+length+j]])\n",
    "        if len(good) > num_hits:\n",
    "            num_hits = len(good)\n",
    "            start_index = start+j\n",
    "        good=[]\n",
    "    return start_index"
   ]
  },
  {
   "cell_type": "code",
   "execution_count": 6,
   "metadata": {
    "collapsed": true
   },
   "outputs": [],
   "source": [
    "def get_hits(data,start_index,length,id_dict):\n",
    "    hit_list = []\n",
    "    for i in range(0,len(data)):\n",
    "            if data[i][start_index:start_index+length] in id_dict:\n",
    "                hit_list.append(id_dict[data[i][start_index:start_index+length]])\n",
    "    return hit_list"
   ]
  },
  {
   "cell_type": "code",
   "execution_count": 7,
   "metadata": {
    "collapsed": true
   },
   "outputs": [],
   "source": [
    "def create_df(hit_list,id_df):\n",
    "    hits_temp = Counter(hit_list)\n",
    "    hit_df = pd.DataFrame.from_dict(hits_temp, orient='index').reset_index()\n",
    "    hit_df.rename(index=str, columns={\"index\":\"UID\",0:\"hits\"}, inplace=True)\n",
    "    hit_df[\"gene_id\"]=\"\"\n",
    "    for index, row in hit_df.iterrows():\n",
    "        row[\"gene_id\"]=id_df.loc[id_df[\"UID\"]==row[\"UID\"]][\"gene_id\"].get_values()[0]\n",
    "    hit_df[\"gene_id\"] = hit_df.apply(lambda row: id_df.loc[id_df[\"UID\"]==row[\"UID\"]][\"gene_id\"].get_values()[0], axis=1)\n",
    "    return hit_df"
   ]
  },
  {
   "cell_type": "code",
   "execution_count": 8,
   "metadata": {
    "collapsed": true
   },
   "outputs": [],
   "source": [
    "ids_dict, ids_df = create_ids()"
   ]
  },
  {
   "cell_type": "code",
   "execution_count": 9,
   "metadata": {
    "collapsed": true
   },
   "outputs": [],
   "source": [
    "content1 = open(\"Cat_Bkgd_Batch1-1.fastq\").readlines()[1::4]\n",
    "\n",
    "content2 = open(\"Cat_Bkgd_Batch1-2.fastq\").readlines()[1::4]\n",
    "\n",
    "content3 = open(\"Cat_Bkgd_Batch1-3.fastq\").readlines()[1::4]\n",
    "\n",
    "si1 = find_start_index(content1,25,20,20,ids_dict)\n",
    "\n",
    "hits1 = get_hits(content1,si1,20,ids_dict)\n",
    "\n",
    "df1 = create_df(hits1,ids_df)\n",
    "\n",
    "df1.to_csv(path_or_buf=\"2Cat_Bkgd_Batch1-1.csv\")\n",
    "\n",
    "si2 = find_start_index(content2,25,20,20,ids_dict)\n",
    "\n",
    "hits2 = get_hits(content2,si2,20,ids_dict)\n",
    "\n",
    "df2 = create_df(hits2,ids_df)\n",
    "\n",
    "df2.to_csv(path_or_buf=\"2Cat_Bkgd_Batch1-2.csv\")\n",
    "\n",
    "si3 = find_start_index(content3,25,20,20,ids_dict)\n",
    "\n",
    "hits3 = get_hits(content3,si3,20,ids_dict)\n",
    "\n",
    "df3 = create_df(hits3,ids_df)\n",
    "\n",
    "df3.to_csv(path_or_buf=\"2Cat_Bkgd_Batch1-3.csv\")\n",
    "\n",
    "hits= list(hits1+hits2+hits3)\n",
    "\n",
    "df = create_df(hits,ids_df)\n",
    "\n",
    "df.to_csv(path_or_buf=\"2Cat_Bkgd_Batch1.csv\")\n",
    "\n",
    "\n",
    "\n",
    "content1 = open(\"Cat_Bkgd_Batch2-1.fastq\").readlines()[1::4]\n",
    "\n",
    "content2 = open(\"Cat_Bkgd_Batch2-2.fastq\").readlines()[1::4]\n",
    "\n",
    "content3 = open(\"Cat_Bkgd_Batch2-3.fastq\").readlines()[1::4]\n",
    "\n",
    "si1 = find_start_index(content1,25,20,20,ids_dict)\n",
    "\n",
    "hits1 = get_hits(content1,si1,20,ids_dict)\n",
    "\n",
    "df1 = create_df(hits1,ids_df)\n",
    "\n",
    "df1.to_csv(path_or_buf=\"2Cat_Bkgd_Batch2-1.csv\")\n",
    "\n",
    "si2 = find_start_index(content2,25,20,20,ids_dict)\n",
    "\n",
    "hits2 = get_hits(content2,si2,20,ids_dict)\n",
    "\n",
    "df2 = create_df(hits2,ids_df)\n",
    "\n",
    "df2.to_csv(path_or_buf=\"2Cat_Bkgd_Batch2-2.csv\")\n",
    "\n",
    "si3 = find_start_index(content3,25,20,20,ids_dict)\n",
    "\n",
    "hits3 = get_hits(content3,si3,20,ids_dict)\n",
    "\n",
    "df3 = create_df(hits3,ids_df)\n",
    "\n",
    "df3.to_csv(path_or_buf=\"2Cat_Bkgd_Batch2-3.csv\")\n",
    "\n",
    "hits= list(hits1+hits2+hits3)\n",
    "\n",
    "df = create_df(hits,ids_df)\n",
    "\n",
    "df.to_csv(path_or_buf=\"2Cat_Bkgd_Batch2.csv\")\n",
    "\n",
    "\n",
    "\n",
    "\n",
    "content1 = open(\"Cat_ZIKV_Lg_1-2.fastq\").readlines()[1::4]\n",
    "\n",
    "content2 = open(\"Cat_ZIKV_Lg_3-4.fastq\").readlines()[1::4]\n",
    "\n",
    "content3 = open(\"Cat_ZIKV_Lg_5-6.fastq\").readlines()[1::4]\n",
    "\n",
    "si1 = find_start_index(content1,25,20,20,ids_dict)\n",
    "\n",
    "hits1 = get_hits(content1,si1,20,ids_dict)\n",
    "\n",
    "df1 = create_df(hits1,ids_df)\n",
    "\n",
    "df1.to_csv(path_or_buf=\"2Cat_ZIKV_Lg_1-2.csv\")\n",
    "\n",
    "si2 = find_start_index(content2,25,20,20,ids_dict)\n",
    "\n",
    "hits2 = get_hits(content2,si2,20,ids_dict)\n",
    "\n",
    "df2 = create_df(hits2,ids_df)\n",
    "\n",
    "df2.to_csv(path_or_buf=\"2Cat_ZIKV_Lg_3-4.csv\")\n",
    "\n",
    "si3 = find_start_index(content3,25,20,20,ids_dict)\n",
    "\n",
    "hits3 = get_hits(content3,si3,20,ids_dict)\n",
    "\n",
    "df3 = create_df(hits3,ids_df)\n",
    "\n",
    "df3.to_csv(path_or_buf=\"2Cat_ZIKV_Lg_5-6.csv\")\n",
    "\n",
    "hits= list(hits1+hits2+hits3)\n",
    "\n",
    "df = create_df(hits,ids_df)\n",
    "\n",
    "df.to_csv(path_or_buf=\"2Cat_ZIKV_Lg.csv\")\n",
    "\n",
    "\n",
    "\n",
    "\n",
    "content1 = open(\"Cat_ZIKV_Lg_1-2.fastq\").readlines()[1::4]\n",
    "\n",
    "content2 = open(\"Cat_ZIKV_Lg_3-4.fastq\").readlines()[1::4]\n",
    "\n",
    "content3 = open(\"Cat_ZIKV_Lg_5-6.fastq\").readlines()[1::4]\n",
    "\n",
    "si1 = find_start_index(content1,25,20,20,ids_dict)\n",
    "\n",
    "hits1 = get_hits(content1,si1,20,ids_dict)\n",
    "\n",
    "df1 = create_df(hits1,ids_df)\n",
    "\n",
    "df1.to_csv(path_or_buf=\"2Cat_ZIKV_M_1-2.csv\")\n",
    "\n",
    "si2 = find_start_index(content2,25,20,20,ids_dict)\n",
    "\n",
    "hits2 = get_hits(content2,si2,20,ids_dict)\n",
    "\n",
    "df2 = create_df(hits2,ids_df)\n",
    "\n",
    "df2.to_csv(path_or_buf=\"2Cat_ZIKV_M_3-4.csv\")\n",
    "\n",
    "si3 = find_start_index(content3,25,20,20,ids_dict)\n",
    "\n",
    "hits3 = get_hits(content3,si3,20,ids_dict)\n",
    "\n",
    "df3 = create_df(hits3,ids_df)\n",
    "\n",
    "df3.to_csv(path_or_buf=\"2Cat_ZIKV_M_5-6.csv\")\n",
    "\n",
    "hits= list(hits1+hits2+hits3)\n",
    "\n",
    "df = create_df(hits,ids_df)\n",
    "\n",
    "df.to_csv(path_or_buf=\"2Cat_ZIKV_M.csv\")"
   ]
  },
  {
   "cell_type": "code",
   "execution_count": null,
   "metadata": {
    "collapsed": true
   },
   "outputs": [],
   "source": []
  }
 ],
 "metadata": {
  "kernelspec": {
   "display_name": "Python 3",
   "language": "python",
   "name": "python3"
  },
  "language_info": {
   "codemirror_mode": {
    "name": "ipython",
    "version": 3
   },
   "file_extension": ".py",
   "mimetype": "text/x-python",
   "name": "python",
   "nbconvert_exporter": "python",
   "pygments_lexer": "ipython3",
   "version": "3.6.3"
  }
 },
 "nbformat": 4,
 "nbformat_minor": 2
}
